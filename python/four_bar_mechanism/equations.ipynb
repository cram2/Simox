{
 "cells": [
  {
   "cell_type": "code",
   "execution_count": 158,
   "metadata": {},
   "outputs": [],
   "source": [
    "import sympy as sp\n",
    "sp.init_printing(use_latex='mathjax')\n",
    "\n",
    "from sympy import symbols, sin, cos, sqrt, asin, atan\n"
   ]
  },
  {
   "cell_type": "code",
   "execution_count": 159,
   "metadata": {},
   "outputs": [],
   "source": [
    "# Actuation\n",
    "\n",
    "theta = symbols('theta')\n",
    "\n",
    "# passive joint \n",
    "psi = symbols('psi')\n"
   ]
  },
  {
   "cell_type": "code",
   "execution_count": 160,
   "metadata": {},
   "outputs": [],
   "source": [
    "\n",
    "# Constants defining geometry.\n",
    "theta0 = symbols('theta0')\n",
    "\n",
    "shank, p1, p2, p3 = symbols('shank p1 p2 p3')\n",
    "\n"
   ]
  },
  {
   "cell_type": "code",
   "execution_count": 161,
   "metadata": {},
   "outputs": [],
   "source": [
    "\n",
    "k1 = shank / p1\n",
    "k2 = shank / p3\n",
    "k3 = (shank**2 + p1**2 + p3**2 - p2**2 ) / (2 * p1 * p3)\n",
    "\n",
    "cT = cos(theta)\n",
    "sT = sin(theta)\n",
    "\n",
    "# precompute the stuff above\n",
    "k1, k2, k3 = symbols('k1 k2 k3')\n",
    "\n",
    "\n",
    "A = k1 * cT + k2 + k3 + cT # C.34\n",
    "B = -2*sT # C.35\n",
    "C = k1 * cT - k2 + k3 - cT # C.36\n",
    "\n",
    "psi = 2 * atan((-B + sqrt(B * B - 4 * A * C)) / (2 * A)) #  C.39\n",
    "\n",
    "psi_inner = (-B + sqrt(B * B - 4 * A * C)) / (2 * A)\n",
    "\n",
    "psi = sp.simplify(psi)\n",
    "\n",
    "\n",
    "from sympy import Function\n",
    "psi = Function('psi')(theta)"
   ]
  },
  {
   "cell_type": "code",
   "execution_count": 162,
   "metadata": {},
   "outputs": [
    {
     "data": {
      "text/latex": [
       "$\\displaystyle \\psi{\\left(\\theta \\right)}$"
      ],
      "text/plain": [
       "ψ(θ)"
      ]
     },
     "execution_count": 162,
     "metadata": {},
     "output_type": "execute_result"
    }
   ],
   "source": [
    "psi"
   ]
  },
  {
   "cell_type": "code",
   "execution_count": 163,
   "metadata": {},
   "outputs": [
    {
     "data": {
      "text/latex": [
       "$\\displaystyle \\operatorname{CoordSys3D}\\left(active_base, \\left( \\left[\\begin{matrix}1 & 0 & 0\\\\0 & 1 & 0\\\\0 & 0 & 1\\end{matrix}\\right], \\  (shank)\\mathbf{\\hat{i}_{passive}}\\right), \\operatorname{CoordSys3D}\\left(passive, \\left( \\left[\\begin{matrix}\\cos{\\left(\\psi{\\left(\\theta \\right)} \\right)} & - \\sin{\\left(\\psi{\\left(\\theta \\right)} \\right)} & 0\\\\\\sin{\\left(\\psi{\\left(\\theta \\right)} \\right)} & \\cos{\\left(\\psi{\\left(\\theta \\right)} \\right)} & 0\\\\0 & 0 & 1\\end{matrix}\\right], \\  \\mathbf{\\hat{0}}\\right), \\operatorname{CoordSys3D}\\left(base, \\left( \\left[\\begin{matrix}1 & 0 & 0\\\\0 & 1 & 0\\\\0 & 0 & 1\\end{matrix}\\right], \\  \\mathbf{\\hat{0}}\\right)\\right)\\right)\\right)$"
      ],
      "text/plain": [
       "active_base"
      ]
     },
     "execution_count": 163,
     "metadata": {},
     "output_type": "execute_result"
    }
   ],
   "source": [
    "\n",
    "from sympy.vector import CoordSys3D, AxisOrienter\n",
    "from sympy import Matrix\n",
    "\n",
    "B = CoordSys3D('base')\n",
    "\n",
    "# zAxis = Vector(0,0, 1)\n",
    "\n",
    "orienter_psi = AxisOrienter(-psi, B.k )\n",
    "\n",
    "T_passive = B.orient_new('passive', (orienter_psi, ))\n",
    "\n",
    "T_active_base = T_passive.locate_new('active_base', shank * T_passive.i )\n",
    "\n",
    "T_active_base\n",
    "\n"
   ]
  },
  {
   "cell_type": "code",
   "execution_count": 164,
   "metadata": {},
   "outputs": [
    {
     "data": {
      "text/latex": [
       "$\\displaystyle \\operatorname{CoordSys3D}\\left(active, \\left( \\left[\\begin{matrix}\\cos{\\left(\\theta \\right)} & \\sin{\\left(\\theta \\right)} & 0\\\\- \\sin{\\left(\\theta \\right)} & \\cos{\\left(\\theta \\right)} & 0\\\\0 & 0 & 1\\end{matrix}\\right], \\  \\mathbf{\\hat{0}}\\right), \\operatorname{CoordSys3D}\\left(active_base, \\left( \\left[\\begin{matrix}1 & 0 & 0\\\\0 & 1 & 0\\\\0 & 0 & 1\\end{matrix}\\right], \\  (shank)\\mathbf{\\hat{i}_{passive}}\\right), \\operatorname{CoordSys3D}\\left(passive, \\left( \\left[\\begin{matrix}\\cos{\\left(\\psi{\\left(\\theta \\right)} \\right)} & - \\sin{\\left(\\psi{\\left(\\theta \\right)} \\right)} & 0\\\\\\sin{\\left(\\psi{\\left(\\theta \\right)} \\right)} & \\cos{\\left(\\psi{\\left(\\theta \\right)} \\right)} & 0\\\\0 & 0 & 1\\end{matrix}\\right], \\  \\mathbf{\\hat{0}}\\right), \\operatorname{CoordSys3D}\\left(base, \\left( \\left[\\begin{matrix}1 & 0 & 0\\\\0 & 1 & 0\\\\0 & 0 & 1\\end{matrix}\\right], \\  \\mathbf{\\hat{0}}\\right)\\right)\\right)\\right)\\right)$"
      ],
      "text/plain": [
       "active"
      ]
     },
     "execution_count": 164,
     "metadata": {},
     "output_type": "execute_result"
    }
   ],
   "source": [
    "\n",
    "orienter_theta = AxisOrienter(theta, B.k )\n",
    "\n",
    "T_active = T_active_base.orient_new('active', (orienter_theta, ))\n",
    "\n",
    "T_active"
   ]
  },
  {
   "cell_type": "code",
   "execution_count": null,
   "metadata": {},
   "outputs": [],
   "source": []
  },
  {
   "cell_type": "code",
   "execution_count": 165,
   "metadata": {},
   "outputs": [],
   "source": [
    "# express the end effector in the active joint coordinate system\n",
    "\n",
    "x, y,z , alpha, beta, gamma = symbols(\"x y z alpha beta gamma\")\n",
    "\n",
    "from sympy.vector import BodyOrienter, Point\n",
    "euler = BodyOrienter(alpha, beta, gamma, rot_order=\"XYZ\")\n",
    "\n",
    "P = T_active.orient_new(\"EEF\", euler, location=(T_active.i * x + T_active.j * y + T_active.k * z))\n",
    "\n"
   ]
  },
  {
   "cell_type": "code",
   "execution_count": 166,
   "metadata": {},
   "outputs": [],
   "source": [
    "pos_vect = P.origin.position_wrt(B)\n",
    "p = pos_vect.to_matrix(B)\n",
    "\n",
    "o = P.rotation_matrix(B)"
   ]
  },
  {
   "cell_type": "code",
   "execution_count": 167,
   "metadata": {},
   "outputs": [
    {
     "data": {
      "text/latex": [
       "$\\displaystyle \\left[\\begin{matrix}- shank \\sin{\\left(\\psi{\\left(\\theta \\right)} \\right)} \\frac{d}{d \\theta} \\psi{\\left(\\theta \\right)} + x \\left(\\sin{\\left(\\theta \\right)} \\cos{\\left(\\psi{\\left(\\theta \\right)} \\right)} \\frac{d}{d \\theta} \\psi{\\left(\\theta \\right)} - \\sin{\\left(\\theta \\right)} \\cos{\\left(\\psi{\\left(\\theta \\right)} \\right)} - \\sin{\\left(\\psi{\\left(\\theta \\right)} \\right)} \\cos{\\left(\\theta \\right)} \\frac{d}{d \\theta} \\psi{\\left(\\theta \\right)} + \\sin{\\left(\\psi{\\left(\\theta \\right)} \\right)} \\cos{\\left(\\theta \\right)}\\right) + y \\left(\\sin{\\left(\\theta \\right)} \\sin{\\left(\\psi{\\left(\\theta \\right)} \\right)} \\frac{d}{d \\theta} \\psi{\\left(\\theta \\right)} - \\sin{\\left(\\theta \\right)} \\sin{\\left(\\psi{\\left(\\theta \\right)} \\right)} + \\cos{\\left(\\theta \\right)} \\cos{\\left(\\psi{\\left(\\theta \\right)} \\right)} \\frac{d}{d \\theta} \\psi{\\left(\\theta \\right)} - \\cos{\\left(\\theta \\right)} \\cos{\\left(\\psi{\\left(\\theta \\right)} \\right)}\\right)\\\\- shank \\cos{\\left(\\psi{\\left(\\theta \\right)} \\right)} \\frac{d}{d \\theta} \\psi{\\left(\\theta \\right)} + x \\left(- \\sin{\\left(\\theta \\right)} \\sin{\\left(\\psi{\\left(\\theta \\right)} \\right)} \\frac{d}{d \\theta} \\psi{\\left(\\theta \\right)} + \\sin{\\left(\\theta \\right)} \\sin{\\left(\\psi{\\left(\\theta \\right)} \\right)} - \\cos{\\left(\\theta \\right)} \\cos{\\left(\\psi{\\left(\\theta \\right)} \\right)} \\frac{d}{d \\theta} \\psi{\\left(\\theta \\right)} + \\cos{\\left(\\theta \\right)} \\cos{\\left(\\psi{\\left(\\theta \\right)} \\right)}\\right) + y \\left(\\sin{\\left(\\theta \\right)} \\cos{\\left(\\psi{\\left(\\theta \\right)} \\right)} \\frac{d}{d \\theta} \\psi{\\left(\\theta \\right)} - \\sin{\\left(\\theta \\right)} \\cos{\\left(\\psi{\\left(\\theta \\right)} \\right)} - \\sin{\\left(\\psi{\\left(\\theta \\right)} \\right)} \\cos{\\left(\\theta \\right)} \\frac{d}{d \\theta} \\psi{\\left(\\theta \\right)} + \\sin{\\left(\\psi{\\left(\\theta \\right)} \\right)} \\cos{\\left(\\theta \\right)}\\right)\\\\0\\end{matrix}\\right]$"
      ],
      "text/plain": [
       "⎡                   d            ⎛                 d                          \n",
       "⎢ - shank⋅sin(ψ(θ))⋅──(ψ(θ)) + x⋅⎜sin(θ)⋅cos(ψ(θ))⋅──(ψ(θ)) - sin(θ)⋅cos(ψ(θ))\n",
       "⎢                   dθ           ⎝                 dθ                         \n",
       "⎢                                                                             \n",
       "⎢                  d            ⎛                   d                         \n",
       "⎢- shank⋅cos(ψ(θ))⋅──(ψ(θ)) + x⋅⎜- sin(θ)⋅sin(ψ(θ))⋅──(ψ(θ)) + sin(θ)⋅sin(ψ(θ)\n",
       "⎢                  dθ           ⎝                   dθ                        \n",
       "⎢                                                                             \n",
       "⎣                                                                             \n",
       "\n",
       "                    d                          ⎞     ⎛                 d      \n",
       " - sin(ψ(θ))⋅cos(θ)⋅──(ψ(θ)) + sin(ψ(θ))⋅cos(θ)⎟ + y⋅⎜sin(θ)⋅sin(ψ(θ))⋅──(ψ(θ)\n",
       "                    dθ                         ⎠     ⎝                 dθ     \n",
       "                                                                              \n",
       "                     d                          ⎞     ⎛                 d     \n",
       ") - cos(θ)⋅cos(ψ(θ))⋅──(ψ(θ)) + cos(θ)⋅cos(ψ(θ))⎟ + y⋅⎜sin(θ)⋅cos(ψ(θ))⋅──(ψ(θ\n",
       "                     dθ                         ⎠     ⎝                 dθ    \n",
       "                                                                              \n",
       "                                  0                                           \n",
       "\n",
       "                                        d                          ⎞ ⎤\n",
       ") - sin(θ)⋅sin(ψ(θ)) + cos(θ)⋅cos(ψ(θ))⋅──(ψ(θ)) - cos(θ)⋅cos(ψ(θ))⎟ ⎥\n",
       "                                        dθ                         ⎠ ⎥\n",
       "                                                                     ⎥\n",
       "                                         d                          ⎞⎥\n",
       ")) - sin(θ)⋅cos(ψ(θ)) - sin(ψ(θ))⋅cos(θ)⋅──(ψ(θ)) + sin(ψ(θ))⋅cos(θ)⎟⎥\n",
       "                                         dθ                         ⎠⎥\n",
       "                                                                     ⎥\n",
       "                                                                     ⎦"
      ]
     },
     "execution_count": 167,
     "metadata": {},
     "output_type": "execute_result"
    }
   ],
   "source": [
    "from sympy import diff\n",
    "\n",
    "dp_dtheta = diff(p, theta)\n",
    "dp_dtheta"
   ]
  },
  {
   "cell_type": "code",
   "execution_count": 168,
   "metadata": {},
   "outputs": [
    {
     "data": {
      "text/latex": [
       "$\\displaystyle \\left[\\begin{matrix}\\left(- \\left(\\sin{\\left(\\alpha \\right)} \\sin{\\left(\\beta \\right)} \\cos{\\left(\\gamma \\right)} + \\sin{\\left(\\gamma \\right)} \\cos{\\left(\\alpha \\right)}\\right) \\sin{\\left(\\theta \\right)} + \\cos{\\left(\\beta \\right)} \\cos{\\left(\\gamma \\right)} \\cos{\\left(\\theta \\right)}\\right) \\cos{\\left(\\psi{\\left(\\theta \\right)} \\right)} + \\left(\\left(\\sin{\\left(\\alpha \\right)} \\sin{\\left(\\beta \\right)} \\cos{\\left(\\gamma \\right)} + \\sin{\\left(\\gamma \\right)} \\cos{\\left(\\alpha \\right)}\\right) \\cos{\\left(\\theta \\right)} + \\sin{\\left(\\theta \\right)} \\cos{\\left(\\beta \\right)} \\cos{\\left(\\gamma \\right)}\\right) \\sin{\\left(\\psi{\\left(\\theta \\right)} \\right)} & - \\left(- \\left(\\sin{\\left(\\alpha \\right)} \\sin{\\left(\\beta \\right)} \\cos{\\left(\\gamma \\right)} + \\sin{\\left(\\gamma \\right)} \\cos{\\left(\\alpha \\right)}\\right) \\sin{\\left(\\theta \\right)} + \\cos{\\left(\\beta \\right)} \\cos{\\left(\\gamma \\right)} \\cos{\\left(\\theta \\right)}\\right) \\sin{\\left(\\psi{\\left(\\theta \\right)} \\right)} + \\left(\\left(\\sin{\\left(\\alpha \\right)} \\sin{\\left(\\beta \\right)} \\cos{\\left(\\gamma \\right)} + \\sin{\\left(\\gamma \\right)} \\cos{\\left(\\alpha \\right)}\\right) \\cos{\\left(\\theta \\right)} + \\sin{\\left(\\theta \\right)} \\cos{\\left(\\beta \\right)} \\cos{\\left(\\gamma \\right)}\\right) \\cos{\\left(\\psi{\\left(\\theta \\right)} \\right)} & \\sin{\\left(\\alpha \\right)} \\sin{\\left(\\gamma \\right)} - \\sin{\\left(\\beta \\right)} \\cos{\\left(\\alpha \\right)} \\cos{\\left(\\gamma \\right)}\\\\\\left(- \\left(- \\sin{\\left(\\alpha \\right)} \\sin{\\left(\\beta \\right)} \\sin{\\left(\\gamma \\right)} + \\cos{\\left(\\alpha \\right)} \\cos{\\left(\\gamma \\right)}\\right) \\sin{\\left(\\theta \\right)} - \\sin{\\left(\\gamma \\right)} \\cos{\\left(\\beta \\right)} \\cos{\\left(\\theta \\right)}\\right) \\cos{\\left(\\psi{\\left(\\theta \\right)} \\right)} + \\left(\\left(- \\sin{\\left(\\alpha \\right)} \\sin{\\left(\\beta \\right)} \\sin{\\left(\\gamma \\right)} + \\cos{\\left(\\alpha \\right)} \\cos{\\left(\\gamma \\right)}\\right) \\cos{\\left(\\theta \\right)} - \\sin{\\left(\\gamma \\right)} \\sin{\\left(\\theta \\right)} \\cos{\\left(\\beta \\right)}\\right) \\sin{\\left(\\psi{\\left(\\theta \\right)} \\right)} & - \\left(- \\left(- \\sin{\\left(\\alpha \\right)} \\sin{\\left(\\beta \\right)} \\sin{\\left(\\gamma \\right)} + \\cos{\\left(\\alpha \\right)} \\cos{\\left(\\gamma \\right)}\\right) \\sin{\\left(\\theta \\right)} - \\sin{\\left(\\gamma \\right)} \\cos{\\left(\\beta \\right)} \\cos{\\left(\\theta \\right)}\\right) \\sin{\\left(\\psi{\\left(\\theta \\right)} \\right)} + \\left(\\left(- \\sin{\\left(\\alpha \\right)} \\sin{\\left(\\beta \\right)} \\sin{\\left(\\gamma \\right)} + \\cos{\\left(\\alpha \\right)} \\cos{\\left(\\gamma \\right)}\\right) \\cos{\\left(\\theta \\right)} - \\sin{\\left(\\gamma \\right)} \\sin{\\left(\\theta \\right)} \\cos{\\left(\\beta \\right)}\\right) \\cos{\\left(\\psi{\\left(\\theta \\right)} \\right)} & \\sin{\\left(\\alpha \\right)} \\cos{\\left(\\gamma \\right)} + \\sin{\\left(\\beta \\right)} \\sin{\\left(\\gamma \\right)} \\cos{\\left(\\alpha \\right)}\\\\\\left(\\sin{\\left(\\alpha \\right)} \\sin{\\left(\\theta \\right)} \\cos{\\left(\\beta \\right)} + \\sin{\\left(\\beta \\right)} \\cos{\\left(\\theta \\right)}\\right) \\cos{\\left(\\psi{\\left(\\theta \\right)} \\right)} + \\left(- \\sin{\\left(\\alpha \\right)} \\cos{\\left(\\beta \\right)} \\cos{\\left(\\theta \\right)} + \\sin{\\left(\\beta \\right)} \\sin{\\left(\\theta \\right)}\\right) \\sin{\\left(\\psi{\\left(\\theta \\right)} \\right)} & - \\left(\\sin{\\left(\\alpha \\right)} \\sin{\\left(\\theta \\right)} \\cos{\\left(\\beta \\right)} + \\sin{\\left(\\beta \\right)} \\cos{\\left(\\theta \\right)}\\right) \\sin{\\left(\\psi{\\left(\\theta \\right)} \\right)} + \\left(- \\sin{\\left(\\alpha \\right)} \\cos{\\left(\\beta \\right)} \\cos{\\left(\\theta \\right)} + \\sin{\\left(\\beta \\right)} \\sin{\\left(\\theta \\right)}\\right) \\cos{\\left(\\psi{\\left(\\theta \\right)} \\right)} & \\cos{\\left(\\alpha \\right)} \\cos{\\left(\\beta \\right)}\\end{matrix}\\right]$"
      ],
      "text/plain": [
       "⎡ (-(sin(α)⋅sin(β)⋅cos(γ) + sin(γ)⋅cos(α))⋅sin(θ) + cos(β)⋅cos(γ)⋅cos(θ))⋅cos(\n",
       "⎢                                                                             \n",
       "⎢(-(-sin(α)⋅sin(β)⋅sin(γ) + cos(α)⋅cos(γ))⋅sin(θ) - sin(γ)⋅cos(β)⋅cos(θ))⋅cos(\n",
       "⎢                                                                             \n",
       "⎣                                 (sin(α)⋅sin(θ)⋅cos(β) + sin(β)⋅cos(θ))⋅cos(ψ\n",
       "\n",
       "ψ(θ)) + ((sin(α)⋅sin(β)⋅cos(γ) + sin(γ)⋅cos(α))⋅cos(θ) + sin(θ)⋅cos(β)⋅cos(γ))\n",
       "                                                                              \n",
       "ψ(θ)) + ((-sin(α)⋅sin(β)⋅sin(γ) + cos(α)⋅cos(γ))⋅cos(θ) - sin(γ)⋅sin(θ)⋅cos(β)\n",
       "                                                                              \n",
       "(θ)) + (-sin(α)⋅cos(β)⋅cos(θ) + sin(β)⋅sin(θ))⋅sin(ψ(θ))                      \n",
       "\n",
       "⋅sin(ψ(θ))    -(-(sin(α)⋅sin(β)⋅cos(γ) + sin(γ)⋅cos(α))⋅sin(θ) + cos(β)⋅cos(γ)\n",
       "                                                                              \n",
       ")⋅sin(ψ(θ))  -(-(-sin(α)⋅sin(β)⋅sin(γ) + cos(α)⋅cos(γ))⋅sin(θ) - sin(γ)⋅cos(β)\n",
       "                                                                              \n",
       "                                              -(sin(α)⋅sin(θ)⋅cos(β) + sin(β)⋅\n",
       "\n",
       "⋅cos(θ))⋅sin(ψ(θ)) + ((sin(α)⋅sin(β)⋅cos(γ) + sin(γ)⋅cos(α))⋅cos(θ) + sin(θ)⋅c\n",
       "                                                                              \n",
       "⋅cos(θ))⋅sin(ψ(θ)) + ((-sin(α)⋅sin(β)⋅sin(γ) + cos(α)⋅cos(γ))⋅cos(θ) - sin(γ)⋅\n",
       "                                                                              \n",
       "cos(θ))⋅sin(ψ(θ)) + (-sin(α)⋅cos(β)⋅cos(θ) + sin(β)⋅sin(θ))⋅cos(ψ(θ))         \n",
       "\n",
       "os(β)⋅cos(γ))⋅cos(ψ(θ))   sin(α)⋅sin(γ) - sin(β)⋅cos(α)⋅cos(γ)⎤\n",
       "                                                              ⎥\n",
       "sin(θ)⋅cos(β))⋅cos(ψ(θ))  sin(α)⋅cos(γ) + sin(β)⋅sin(γ)⋅cos(α)⎥\n",
       "                                                              ⎥\n",
       "                                     cos(α)⋅cos(β)            ⎦"
      ]
     },
     "execution_count": 168,
     "metadata": {},
     "output_type": "execute_result"
    }
   ],
   "source": [
    "o"
   ]
  },
  {
   "cell_type": "code",
   "execution_count": 169,
   "metadata": {},
   "outputs": [],
   "source": [
    "# dp_dtheta_simpl = dp_dtheta.simplify()\n",
    "\n",
    "# dx_dtheta = sp.simplify(dp_dtheta[0])"
   ]
  },
  {
   "cell_type": "code",
   "execution_count": 176,
   "metadata": {},
   "outputs": [],
   "source": [
    "from sympy import ccode #, cpp_generator\n",
    "\n",
    "\n",
    "\n",
    "cpp_code = ccode(dp_dtheta[0], assign_to=\"dx_dtheta\", standard=\"c11\")\n",
    "\n",
    "with open(\"/tmp/expressions.cpp\", \"w\") as f:\n",
    "  f.write(cpp_code)"
   ]
  },
  {
   "cell_type": "code",
   "execution_count": 179,
   "metadata": {},
   "outputs": [
    {
     "data": {
      "text/latex": [
       "$\\displaystyle - shank \\sin{\\left(\\psi{\\left(\\theta \\right)} \\right)} \\frac{d}{d \\theta} \\psi{\\left(\\theta \\right)} + x \\left(\\sin{\\left(\\theta \\right)} \\cos{\\left(\\psi{\\left(\\theta \\right)} \\right)} \\frac{d}{d \\theta} \\psi{\\left(\\theta \\right)} - \\sin{\\left(\\theta \\right)} \\cos{\\left(\\psi{\\left(\\theta \\right)} \\right)} - \\sin{\\left(\\psi{\\left(\\theta \\right)} \\right)} \\cos{\\left(\\theta \\right)} \\frac{d}{d \\theta} \\psi{\\left(\\theta \\right)} + \\sin{\\left(\\psi{\\left(\\theta \\right)} \\right)} \\cos{\\left(\\theta \\right)}\\right) + y \\left(\\sin{\\left(\\theta \\right)} \\sin{\\left(\\psi{\\left(\\theta \\right)} \\right)} \\frac{d}{d \\theta} \\psi{\\left(\\theta \\right)} - \\sin{\\left(\\theta \\right)} \\sin{\\left(\\psi{\\left(\\theta \\right)} \\right)} + \\cos{\\left(\\theta \\right)} \\cos{\\left(\\psi{\\left(\\theta \\right)} \\right)} \\frac{d}{d \\theta} \\psi{\\left(\\theta \\right)} - \\cos{\\left(\\theta \\right)} \\cos{\\left(\\psi{\\left(\\theta \\right)} \\right)}\\right)$"
      ],
      "text/plain": [
       "                  d            ⎛                 d                            \n",
       "- shank⋅sin(ψ(θ))⋅──(ψ(θ)) + x⋅⎜sin(θ)⋅cos(ψ(θ))⋅──(ψ(θ)) - sin(θ)⋅cos(ψ(θ)) -\n",
       "                  dθ           ⎝                 dθ                           \n",
       "\n",
       "                  d                          ⎞     ⎛                 d        \n",
       " sin(ψ(θ))⋅cos(θ)⋅──(ψ(θ)) + sin(ψ(θ))⋅cos(θ)⎟ + y⋅⎜sin(θ)⋅sin(ψ(θ))⋅──(ψ(θ)) \n",
       "                  dθ                         ⎠     ⎝                 dθ       \n",
       "\n",
       "                                      d                          ⎞\n",
       "- sin(θ)⋅sin(ψ(θ)) + cos(θ)⋅cos(ψ(θ))⋅──(ψ(θ)) - cos(θ)⋅cos(ψ(θ))⎟\n",
       "                                      dθ                         ⎠"
      ]
     },
     "execution_count": 179,
     "metadata": {},
     "output_type": "execute_result"
    }
   ],
   "source": [
    "# from sympy.codegen.rewriting import optimize, optims_c99\n",
    "\n",
    "# f = optimize(dp_dtheta[0], optims_c99)\n",
    "\n",
    "# f\n",
    "\n",
    "dp_dtheta[0]\n",
    "\n"
   ]
  },
  {
   "cell_type": "code",
   "execution_count": 180,
   "metadata": {},
   "outputs": [
    {
     "data": {
      "text/latex": [
       "$\\displaystyle - shank \\sin{\\left(\\psi{\\left(\\theta \\right)} \\right)} \\frac{d}{d \\theta} \\psi{\\left(\\theta \\right)} + x \\left(\\frac{d}{d \\theta} \\psi{\\left(\\theta \\right)} - 1\\right) \\sin{\\left(\\theta - \\psi{\\left(\\theta \\right)} \\right)} + y \\left(\\frac{d}{d \\theta} \\psi{\\left(\\theta \\right)} - 1\\right) \\cos{\\left(\\theta - \\psi{\\left(\\theta \\right)} \\right)}$"
      ],
      "text/plain": [
       "                  d            ⎛d           ⎞                   ⎛d           ⎞\n",
       "- shank⋅sin(ψ(θ))⋅──(ψ(θ)) + x⋅⎜──(ψ(θ)) - 1⎟⋅sin(θ - ψ(θ)) + y⋅⎜──(ψ(θ)) - 1⎟\n",
       "                  dθ           ⎝dθ          ⎠                   ⎝dθ          ⎠\n",
       "\n",
       "              \n",
       "⋅cos(θ - ψ(θ))\n",
       "              "
      ]
     },
     "execution_count": 180,
     "metadata": {},
     "output_type": "execute_result"
    }
   ],
   "source": [
    "dp_dtheta[0].simplify()"
   ]
  },
  {
   "cell_type": "code",
   "execution_count": 181,
   "metadata": {},
   "outputs": [
    {
     "data": {
      "text/latex": [
       "$\\displaystyle - shank \\cos{\\left(\\psi{\\left(\\theta \\right)} \\right)} \\frac{d}{d \\theta} \\psi{\\left(\\theta \\right)} - x \\left(\\frac{d}{d \\theta} \\psi{\\left(\\theta \\right)} - 1\\right) \\cos{\\left(\\theta - \\psi{\\left(\\theta \\right)} \\right)} + y \\left(\\frac{d}{d \\theta} \\psi{\\left(\\theta \\right)} - 1\\right) \\sin{\\left(\\theta - \\psi{\\left(\\theta \\right)} \\right)}$"
      ],
      "text/plain": [
       "                  d            ⎛d           ⎞                   ⎛d           ⎞\n",
       "- shank⋅cos(ψ(θ))⋅──(ψ(θ)) - x⋅⎜──(ψ(θ)) - 1⎟⋅cos(θ - ψ(θ)) + y⋅⎜──(ψ(θ)) - 1⎟\n",
       "                  dθ           ⎝dθ          ⎠                   ⎝dθ          ⎠\n",
       "\n",
       "              \n",
       "⋅sin(θ - ψ(θ))\n",
       "              "
      ]
     },
     "execution_count": 181,
     "metadata": {},
     "output_type": "execute_result"
    }
   ],
   "source": [
    "dp_dtheta[1].simplify()"
   ]
  },
  {
   "cell_type": "code",
   "execution_count": 182,
   "metadata": {},
   "outputs": [
    {
     "data": {
      "text/latex": [
       "$\\displaystyle 0$"
      ],
      "text/plain": [
       "0"
      ]
     },
     "execution_count": 182,
     "metadata": {},
     "output_type": "execute_result"
    }
   ],
   "source": [
    "dp_dtheta[2].simplify()"
   ]
  },
  {
   "cell_type": "code",
   "execution_count": 175,
   "metadata": {},
   "outputs": [
    {
     "data": {
      "text/latex": [
       "$\\displaystyle \\frac{d}{d \\theta} \\psi{\\left(\\theta \\right)}$"
      ],
      "text/plain": [
       "d       \n",
       "──(ψ(θ))\n",
       "dθ      "
      ]
     },
     "execution_count": 175,
     "metadata": {},
     "output_type": "execute_result"
    }
   ],
   "source": [
    "psi_precompute = symbols(\"psi_precompute\")\n",
    "dpsi_dtheta_precompute = symbols(\"dpsi_dtheta_precompute\")\n",
    "psi_inner_precompute = symbols(\"psi_inner_precompute\")\n",
    "\n",
    "dpsi_inner = diff(psi_inner, theta)\n",
    "dpsi_inner_precompute = symbols(\"dpsi_inner\")\n",
    "\n",
    "dpsi_dtheta = diff(psi, theta)\n",
    "\n",
    "s = dp_dtheta[0].replace(psi, psi_precompute)\n",
    "s = s.replace(dpsi_dtheta, dpsi_dtheta_precompute)\n",
    "s = s.replace(psi_inner, psi_inner_precompute)\n",
    "s = s.replace(dpsi_inner, dpsi_inner_precompute)\n",
    "\n",
    "dpsi_dtheta"
   ]
  },
  {
   "cell_type": "code",
   "execution_count": 173,
   "metadata": {},
   "outputs": [
    {
     "data": {
      "text/latex": [
       "$\\displaystyle \\frac{d}{d \\theta} \\psi{\\left(\\theta \\right)}$"
      ],
      "text/plain": [
       "d       \n",
       "──(ψ(θ))\n",
       "dθ      "
      ]
     },
     "execution_count": 173,
     "metadata": {},
     "output_type": "execute_result"
    }
   ],
   "source": [
    "dpsi_dtheta"
   ]
  },
  {
   "cell_type": "code",
   "execution_count": 174,
   "metadata": {},
   "outputs": [
    {
     "data": {
      "text/latex": [
       "$\\displaystyle \\frac{x \\sin{\\left(\\psi_{precompute} - \\theta \\right)} - y \\cos{\\left(\\psi_{precompute} - \\theta \\right)}}{\\frac{d}{d \\theta} \\psi{\\left(\\theta \\right)}}$"
      ],
      "text/plain": [
       "x⋅sin(ψ_precompute - θ) - y⋅cos(ψ_precompute - θ)\n",
       "─────────────────────────────────────────────────\n",
       "                     d                           \n",
       "                     ──(ψ(θ))                    \n",
       "                     dθ                          "
      ]
     },
     "execution_count": 174,
     "metadata": {},
     "output_type": "execute_result"
    }
   ],
   "source": [
    "ff = s / dpsi_dtheta\n",
    "\n",
    "ff.simplify()"
   ]
  }
 ],
 "metadata": {
  "kernelspec": {
   "display_name": "armarx",
   "language": "python",
   "name": "python3"
  },
  "language_info": {
   "codemirror_mode": {
    "name": "ipython",
    "version": 3
   },
   "file_extension": ".py",
   "mimetype": "text/x-python",
   "name": "python",
   "nbconvert_exporter": "python",
   "pygments_lexer": "ipython3",
   "version": "3.7.11"
  },
  "orig_nbformat": 4,
  "vscode": {
   "interpreter": {
    "hash": "edf8927144584185110aeeacb4ee22a221f99c19957d335f96fa1b4f8f5621f4"
   }
  }
 },
 "nbformat": 4,
 "nbformat_minor": 2
}
