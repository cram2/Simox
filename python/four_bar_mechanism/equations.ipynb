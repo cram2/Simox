{
 "cells": [
  {
   "attachments": {},
   "cell_type": "markdown",
   "metadata": {},
   "source": [
    "# Jacobian of Four-Bar Mechanism \n",
    "\n",
    "The knee joint is actuated but the ankle joint is passive.  \n",
    "\n",
    "## Todo's\n",
    "\n",
    "  - consider $\\theta_0$"
   ]
  },
  {
   "cell_type": "code",
   "execution_count": 57,
   "metadata": {},
   "outputs": [],
   "source": [
    "import sympy as sp\n",
    "sp.init_printing(use_latex='mathjax')\n",
    "\n",
    "from sympy import symbols, sin, cos, sqrt, asin, atan\n"
   ]
  },
  {
   "cell_type": "code",
   "execution_count": 71,
   "metadata": {},
   "outputs": [],
   "source": [
    "# Actuation (knee)\n",
    "theta = symbols('theta')\n",
    "\n",
    "# Passive joint (ankle) \n",
    "psi = symbols('psi')\n"
   ]
  },
  {
   "cell_type": "code",
   "execution_count": 59,
   "metadata": {},
   "outputs": [],
   "source": [
    "\n",
    "# Constants defined by geometry.\n",
    "theta0 = symbols('theta0')\n",
    "\n",
    "shank, p1, p2, p3 = symbols('shank p1 p2 p3')\n",
    "\n"
   ]
  },
  {
   "cell_type": "code",
   "execution_count": 60,
   "metadata": {},
   "outputs": [],
   "source": [
    "# Manually specified structure of equations. We first introduce variables based on the kinematic structure only.\n",
    "# These can easily be precomputed in code. Here, they are just mentioned as a reference.\n",
    "\n",
    "k1 = shank / p1\n",
    "k2 = shank / p3\n",
    "k3 = (shank**2 + p1**2 + p3**2 - p2**2 ) / (2 * p1 * p3)\n",
    "\n",
    "\n",
    "# directly use these variables\n",
    "k1, k2, k3 = symbols('k1 k2 k3')\n"
   ]
  },
  {
   "attachments": {},
   "cell_type": "markdown",
   "metadata": {},
   "source": [
    "## Relationship between ankle ($\\psi$) and knee ($\\theta$)"
   ]
  },
  {
   "cell_type": "code",
   "execution_count": 61,
   "metadata": {},
   "outputs": [],
   "source": [
    "\n",
    "# some helpers\n",
    "cT = cos(theta)\n",
    "sT = sin(theta)\n",
    "\n",
    "\n",
    "A = k1 * cT + k2 + k3 + cT # C.34\n",
    "B = -2*sT # C.35\n",
    "C = k1 * cT - k2 + k3 - cT # C.36\n",
    "\n",
    "# ankle\n",
    "psi = 2 * atan((-B + sqrt(B * B - 4 * A * C)) / (2 * A)) #  C.39\n",
    "\n",
    "psi = sp.simplify(psi)\n",
    "\n",
    "psi_of_theta = psi\n",
    "\n"
   ]
  },
  {
   "cell_type": "code",
   "execution_count": 62,
   "metadata": {},
   "outputs": [
    {
     "data": {
      "text/latex": [
       "$\\displaystyle 2 \\operatorname{atan}{\\left(\\frac{\\sqrt{- k_{1}^{2} \\cos^{2}{\\left(\\theta \\right)} - 2 k_{1} k_{3} \\cos{\\left(\\theta \\right)} + k_{2}^{2} + 2 k_{2} \\cos{\\left(\\theta \\right)} - k_{3}^{2} + 1} + \\sin{\\left(\\theta \\right)}}{k_{1} \\cos{\\left(\\theta \\right)} + k_{2} + k_{3} + \\cos{\\left(\\theta \\right)}} \\right)}$"
      ],
      "text/plain": [
       "      ⎛   ______________________________________________________________      \n",
       "      ⎜  ╱     2    2                         2                   2           \n",
       "      ⎜╲╱  - k₁ ⋅cos (θ) - 2⋅k₁⋅k₃⋅cos(θ) + k₂  + 2⋅k₂⋅cos(θ) - k₃  + 1  + sin\n",
       "2⋅atan⎜───────────────────────────────────────────────────────────────────────\n",
       "      ⎝                       k₁⋅cos(θ) + k₂ + k₃ + cos(θ)                    \n",
       "\n",
       "   ⎞\n",
       "   ⎟\n",
       "(θ)⎟\n",
       "───⎟\n",
       "   ⎠"
      ]
     },
     "execution_count": 62,
     "metadata": {},
     "output_type": "execute_result"
    }
   ],
   "source": [
    "psi"
   ]
  },
  {
   "attachments": {},
   "cell_type": "markdown",
   "metadata": {},
   "source": [
    "### Derivatives"
   ]
  },
  {
   "cell_type": "code",
   "execution_count": 63,
   "metadata": {},
   "outputs": [
    {
     "data": {
      "text/latex": [
       "$\\displaystyle \\frac{2 \\left(\\frac{\\left(k_{1} \\sin{\\left(\\theta \\right)} + \\sin{\\left(\\theta \\right)}\\right) \\left(\\sqrt{- k_{1}^{2} \\cos^{2}{\\left(\\theta \\right)} - 2 k_{1} k_{3} \\cos{\\left(\\theta \\right)} + k_{2}^{2} + 2 k_{2} \\cos{\\left(\\theta \\right)} - k_{3}^{2} + 1} + \\sin{\\left(\\theta \\right)}\\right)}{\\left(k_{1} \\cos{\\left(\\theta \\right)} + k_{2} + k_{3} + \\cos{\\left(\\theta \\right)}\\right)^{2}} + \\frac{\\frac{k_{1}^{2} \\sin{\\left(\\theta \\right)} \\cos{\\left(\\theta \\right)} + k_{1} k_{3} \\sin{\\left(\\theta \\right)} - k_{2} \\sin{\\left(\\theta \\right)}}{\\sqrt{- k_{1}^{2} \\cos^{2}{\\left(\\theta \\right)} - 2 k_{1} k_{3} \\cos{\\left(\\theta \\right)} + k_{2}^{2} + 2 k_{2} \\cos{\\left(\\theta \\right)} - k_{3}^{2} + 1}} + \\cos{\\left(\\theta \\right)}}{k_{1} \\cos{\\left(\\theta \\right)} + k_{2} + k_{3} + \\cos{\\left(\\theta \\right)}}\\right)}{\\frac{\\left(\\sqrt{- k_{1}^{2} \\cos^{2}{\\left(\\theta \\right)} - 2 k_{1} k_{3} \\cos{\\left(\\theta \\right)} + k_{2}^{2} + 2 k_{2} \\cos{\\left(\\theta \\right)} - k_{3}^{2} + 1} + \\sin{\\left(\\theta \\right)}\\right)^{2}}{\\left(k_{1} \\cos{\\left(\\theta \\right)} + k_{2} + k_{3} + \\cos{\\left(\\theta \\right)}\\right)^{2}} + 1}$"
      ],
      "text/plain": [
       "  ⎛                                                                           \n",
       "  ⎜                                                                           \n",
       "  ⎜                                                                           \n",
       "  ⎜                     ⎛   __________________________________________________\n",
       "  ⎜                     ⎜  ╱     2    2                         2             \n",
       "  ⎜(k₁⋅sin(θ) + sin(θ))⋅⎝╲╱  - k₁ ⋅cos (θ) - 2⋅k₁⋅k₃⋅cos(θ) + k₂  + 2⋅k₂⋅cos(θ\n",
       "2⋅⎜───────────────────────────────────────────────────────────────────────────\n",
       "  ⎜                                                               2           \n",
       "  ⎝                                 (k₁⋅cos(θ) + k₂ + k₃ + cos(θ))            \n",
       "──────────────────────────────────────────────────────────────────────────────\n",
       "                                                                              \n",
       "                                                ⎛   __________________________\n",
       "                                                ⎜  ╱     2    2               \n",
       "                                                ⎝╲╱  - k₁ ⋅cos (θ) - 2⋅k₁⋅k₃⋅c\n",
       "                                                ──────────────────────────────\n",
       "                                                                              \n",
       "                                                                       (k₁⋅cos\n",
       "\n",
       "                                      2                                       \n",
       "                                    k₁ ⋅sin(θ)⋅cos(θ) + k₁⋅k₃⋅sin(θ) - k₂⋅sin(\n",
       "                         ─────────────────────────────────────────────────────\n",
       "____________         ⎞      __________________________________________________\n",
       "      2              ⎟     ╱     2    2                         2             \n",
       ") - k₃  + 1  + sin(θ)⎠   ╲╱  - k₁ ⋅cos (θ) - 2⋅k₁⋅k₃⋅cos(θ) + k₂  + 2⋅k₂⋅cos(θ\n",
       "────────────────────── + ─────────────────────────────────────────────────────\n",
       "                                                k₁⋅cos(θ) + k₂ + k₃ + cos(θ)  \n",
       "                                                                              \n",
       "──────────────────────────────────────────────────────────────────────────────\n",
       "                                              2                               \n",
       "____________________________________         ⎞                                \n",
       "          2                   2              ⎟                                \n",
       "os(θ) + k₂  + 2⋅k₂⋅cos(θ) - k₃  + 1  + sin(θ)⎠                                \n",
       "─────────────────────────────────────────────── + 1                           \n",
       "                       2                                                      \n",
       "(θ) + k₂ + k₃ + cos(θ))                                                       \n",
       "\n",
       "                     ⎞\n",
       "θ)                   ⎟\n",
       "──────────── + cos(θ)⎟\n",
       "____________         ⎟\n",
       "      2              ⎟\n",
       ") - k₃  + 1          ⎟\n",
       "─────────────────────⎟\n",
       "                     ⎟\n",
       "                     ⎠\n",
       "──────────────────────\n",
       "                      \n",
       "                      \n",
       "                      \n",
       "                      \n",
       "                      \n",
       "                      \n",
       "                      "
      ]
     },
     "execution_count": 63,
     "metadata": {},
     "output_type": "execute_result"
    }
   ],
   "source": [
    "from sympy import diff\n",
    "\n",
    "dpsi_dtheta = diff(psi, theta)\n",
    "\n",
    "dpsi_dtheta"
   ]
  },
  {
   "cell_type": "code",
   "execution_count": 64,
   "metadata": {},
   "outputs": [],
   "source": [
    "# We can implement the term dpsi_dtheta now in code. Therefore, we assume from now on that it is given.\n",
    "\n",
    "from sympy import Function\n",
    "psi = Function('psi')(theta)"
   ]
  },
  {
   "attachments": {},
   "cell_type": "markdown",
   "metadata": {},
   "source": [
    "## Coordinate systems"
   ]
  },
  {
   "cell_type": "code",
   "execution_count": 65,
   "metadata": {},
   "outputs": [
    {
     "data": {
      "text/latex": [
       "$\\displaystyle \\operatorname{CoordSys3D}\\left(knee_base, \\left( \\left[\\begin{matrix}1 & 0 & 0\\\\0 & 1 & 0\\\\0 & 0 & 1\\end{matrix}\\right], \\  (shank)\\mathbf{\\hat{i}_{ankle}}\\right), \\operatorname{CoordSys3D}\\left(ankle, \\left( \\left[\\begin{matrix}\\cos{\\left(\\psi{\\left(\\theta \\right)} \\right)} & - \\sin{\\left(\\psi{\\left(\\theta \\right)} \\right)} & 0\\\\\\sin{\\left(\\psi{\\left(\\theta \\right)} \\right)} & \\cos{\\left(\\psi{\\left(\\theta \\right)} \\right)} & 0\\\\0 & 0 & 1\\end{matrix}\\right], \\  \\mathbf{\\hat{0}}\\right), \\operatorname{CoordSys3D}\\left(base, \\left( \\left[\\begin{matrix}1 & 0 & 0\\\\0 & 1 & 0\\\\0 & 0 & 1\\end{matrix}\\right], \\  \\mathbf{\\hat{0}}\\right)\\right)\\right)\\right)$"
      ],
      "text/plain": [
       "knee_base"
      ]
     },
     "execution_count": 65,
     "metadata": {},
     "output_type": "execute_result"
    }
   ],
   "source": [
    "\n",
    "from sympy.vector import CoordSys3D, AxisOrienter\n",
    "from sympy import Matrix\n",
    "\n",
    "# The reference system at the origin of the ankle. It is defined as follows:\n",
    "# -z is the rotation axis of the joint\n",
    "# x points upwards (away from the platform, aligned with the global z axis)\n",
    "B = CoordSys3D('base')\n",
    "\n",
    "orienter_psi = AxisOrienter(psi, -B.k )\n",
    "\n",
    "# coordinate system of the ankle joint (after applying the joint rotation)\n",
    "T_ankle = B.orient_new('ankle', (orienter_psi, ))\n",
    "\n",
    "# helper coordinate system at the origin of the knee after applying the knee rotation\n",
    "T_knee_base = T_ankle.locate_new('knee_base', shank * T_ankle.i )\n",
    "\n",
    "T_knee_base\n",
    "\n"
   ]
  },
  {
   "cell_type": "code",
   "execution_count": 66,
   "metadata": {},
   "outputs": [
    {
     "data": {
      "text/latex": [
       "$\\displaystyle \\operatorname{CoordSys3D}\\left(knee, \\left( \\left[\\begin{matrix}\\cos{\\left(\\theta \\right)} & \\sin{\\left(\\theta \\right)} & 0\\\\- \\sin{\\left(\\theta \\right)} & \\cos{\\left(\\theta \\right)} & 0\\\\0 & 0 & 1\\end{matrix}\\right], \\  \\mathbf{\\hat{0}}\\right), \\operatorname{CoordSys3D}\\left(knee_base, \\left( \\left[\\begin{matrix}1 & 0 & 0\\\\0 & 1 & 0\\\\0 & 0 & 1\\end{matrix}\\right], \\  (shank)\\mathbf{\\hat{i}_{ankle}}\\right), \\operatorname{CoordSys3D}\\left(ankle, \\left( \\left[\\begin{matrix}\\cos{\\left(\\psi{\\left(\\theta \\right)} \\right)} & - \\sin{\\left(\\psi{\\left(\\theta \\right)} \\right)} & 0\\\\\\sin{\\left(\\psi{\\left(\\theta \\right)} \\right)} & \\cos{\\left(\\psi{\\left(\\theta \\right)} \\right)} & 0\\\\0 & 0 & 1\\end{matrix}\\right], \\  \\mathbf{\\hat{0}}\\right), \\operatorname{CoordSys3D}\\left(base, \\left( \\left[\\begin{matrix}1 & 0 & 0\\\\0 & 1 & 0\\\\0 & 0 & 1\\end{matrix}\\right], \\  \\mathbf{\\hat{0}}\\right)\\right)\\right)\\right)\\right)$"
      ],
      "text/plain": [
       "knee"
      ]
     },
     "execution_count": 66,
     "metadata": {},
     "output_type": "execute_result"
    }
   ],
   "source": [
    "\n",
    "orienter_theta = AxisOrienter(theta, B.k )\n",
    "\n",
    "# coordinate system of the knee after applying the rotation\n",
    "T_knee = T_knee_base.orient_new('knee', (orienter_theta, ))\n",
    "\n",
    "T_knee"
   ]
  },
  {
   "cell_type": "code",
   "execution_count": null,
   "metadata": {},
   "outputs": [],
   "source": []
  },
  {
   "cell_type": "code",
   "execution_count": 67,
   "metadata": {},
   "outputs": [],
   "source": [
    "# express the end effector in the knee joint coordinate system (T_knee). This captures the forward kinematics of child joints.\n",
    "x, y, z, alpha, beta, gamma = symbols(\"x y z alpha beta gamma\")\n",
    "\n",
    "from sympy.vector import BodyOrienter, Point\n",
    "euler = BodyOrienter(alpha, beta, gamma, rot_order=\"XYZ\")\n",
    "\n",
    "P_eef = T_knee.orient_new(\"EEF\", euler, location=(T_knee.i * x + T_knee.j * y + T_knee.k * z))\n",
    "\n"
   ]
  },
  {
   "cell_type": "code",
   "execution_count": 68,
   "metadata": {},
   "outputs": [],
   "source": [
    "pos_vect = P_eef.origin.position_wrt(B)\n",
    "\n",
    "# express the EEF in the base coordinate system (ankle base)\n",
    "p_eef = pos_vect.to_matrix(B)\n",
    "\n",
    "# o = P_eef.rotation_matrix(B)"
   ]
  },
  {
   "attachments": {},
   "cell_type": "markdown",
   "metadata": {},
   "source": [
    "# Jacobian\n",
    "\n",
    "Pose of the end-effector\n",
    "$$\n",
    "p_{eef} = (x,y,z,\\alpha, \\beta, \\gamma )^T\n",
    "$$\n",
    "\n",
    "The Jacobian $J \\in \\mathrm{R}^{6x1}$\n",
    "$$\n",
    "J = \\frac{\\partial p_{eef}}{\\partial \\theta}\n",
    "$$\n"
   ]
  },
  {
   "cell_type": "code",
   "execution_count": 69,
   "metadata": {},
   "outputs": [
    {
     "data": {
      "text/latex": [
       "$\\displaystyle \\left[\\begin{matrix}- shank \\sin{\\left(\\psi{\\left(\\theta \\right)} \\right)} \\frac{d}{d \\theta} \\psi{\\left(\\theta \\right)} + x \\left(\\frac{d}{d \\theta} \\psi{\\left(\\theta \\right)} - 1\\right) \\sin{\\left(\\theta - \\psi{\\left(\\theta \\right)} \\right)} + y \\left(\\frac{d}{d \\theta} \\psi{\\left(\\theta \\right)} - 1\\right) \\cos{\\left(\\theta - \\psi{\\left(\\theta \\right)} \\right)}\\\\- shank \\cos{\\left(\\psi{\\left(\\theta \\right)} \\right)} \\frac{d}{d \\theta} \\psi{\\left(\\theta \\right)} - x \\left(\\frac{d}{d \\theta} \\psi{\\left(\\theta \\right)} - 1\\right) \\cos{\\left(\\theta - \\psi{\\left(\\theta \\right)} \\right)} + y \\left(\\frac{d}{d \\theta} \\psi{\\left(\\theta \\right)} - 1\\right) \\sin{\\left(\\theta - \\psi{\\left(\\theta \\right)} \\right)}\\\\0\\end{matrix}\\right]$"
      ],
      "text/plain": [
       "⎡                  d            ⎛d           ⎞                   ⎛d           \n",
       "⎢- shank⋅sin(ψ(θ))⋅──(ψ(θ)) + x⋅⎜──(ψ(θ)) - 1⎟⋅sin(θ - ψ(θ)) + y⋅⎜──(ψ(θ)) - 1\n",
       "⎢                  dθ           ⎝dθ          ⎠                   ⎝dθ          \n",
       "⎢                                                                             \n",
       "⎢                  d            ⎛d           ⎞                   ⎛d           \n",
       "⎢- shank⋅cos(ψ(θ))⋅──(ψ(θ)) - x⋅⎜──(ψ(θ)) - 1⎟⋅cos(θ - ψ(θ)) + y⋅⎜──(ψ(θ)) - 1\n",
       "⎢                  dθ           ⎝dθ          ⎠                   ⎝dθ          \n",
       "⎢                                                                             \n",
       "⎣                                             0                               \n",
       "\n",
       "⎞              ⎤\n",
       "⎟⋅cos(θ - ψ(θ))⎥\n",
       "⎠              ⎥\n",
       "               ⎥\n",
       "⎞              ⎥\n",
       "⎟⋅sin(θ - ψ(θ))⎥\n",
       "⎠              ⎥\n",
       "               ⎥\n",
       "               ⎦"
      ]
     },
     "execution_count": 69,
     "metadata": {},
     "output_type": "execute_result"
    }
   ],
   "source": [
    "from sympy import diff\n",
    "\n",
    "# position part of the Jacobian\n",
    "dp_dtheta = diff(p_eef, theta)\n",
    "dp_dtheta = dp_dtheta.simplify()\n",
    "\n",
    "dp_dtheta\n"
   ]
  },
  {
   "attachments": {},
   "cell_type": "markdown",
   "metadata": {},
   "source": [
    "the expression $\\frac{\\partial \\mathbf{p}}{\\partial \\theta}$ above yields $\\frac{\\partial x}{\\partial\\theta}$ and $\\frac{\\partial y}{\\partial\\theta}$. $\\frac{\\partial z}{\\partial\\theta}$ is $0$.\n",
    "\n",
    "\n",
    "To obtain the orientation part, we only need to consider the angle $\\gamma$ as the joint mechanism is 2D (rotatation around z axis). In other words  $\\frac{\\partial \\alpha}{\\partial\\theta} = \\frac{\\partial \\beta}{\\partial\\theta} = 0$\n",
    "\n",
    "\n",
    "\n",
    "It is\n",
    "\n",
    "$$ \n",
    "\\gamma = \\gamma_{0} -\\psi + \\theta\n",
    "$$\n",
    "\n",
    "Partial derivative:\n",
    "\n",
    "$$\n",
    "\\frac{\\partial \\gamma}{\\partial\\theta} = 1 - \\frac{\\partial \\psi}{\\partial\\theta} \n",
    "$$\n",
    "\n",
    "\n"
   ]
  },
  {
   "attachments": {},
   "cell_type": "markdown",
   "metadata": {},
   "source": [
    "# Automatic code generation\n",
    "\n",
    "It is advantageous to implement the equations above by hand. Sine and cosine terms can be computed once for improved efficiency.\n",
    "\n",
    "*The following is just for reference*"
   ]
  },
  {
   "cell_type": "code",
   "execution_count": 70,
   "metadata": {},
   "outputs": [],
   "source": [
    "from sympy import ccode #, cpp_generator\n",
    "\n",
    "def generate_code():\n",
    "\n",
    "  cpp_code = ccode(dp_dtheta[0], assign_to=\"dx_dtheta\", standard=\"c11\")\n",
    "\n",
    "  with open(\"/tmp/expressions.cpp\", \"w\") as f:\n",
    "    f.write(cpp_code)"
   ]
  }
 ],
 "metadata": {
  "kernelspec": {
   "display_name": "simox_control",
   "language": "python",
   "name": "python3"
  },
  "language_info": {
   "codemirror_mode": {
    "name": "ipython",
    "version": 3
   },
   "file_extension": ".py",
   "mimetype": "text/x-python",
   "name": "python",
   "nbconvert_exporter": "python",
   "pygments_lexer": "ipython3",
   "version": "3.7.13"
  },
  "orig_nbformat": 4,
  "vscode": {
   "interpreter": {
    "hash": "e4599465d50e71b5ac4fe67b3a4b0cd1869600672e1938bc9720f881263763f9"
   }
  }
 },
 "nbformat": 4,
 "nbformat_minor": 2
}
