{
 "cells": [
  {
   "attachments": {},
   "cell_type": "markdown",
   "metadata": {},
   "source": [
    "# Jacobian of Four-Bar Mechanism \n",
    "\n",
    "The knee joint is actuated but the ankle joint is passive.  \n",
    "\n",
    "## Todo's\n",
    "\n",
    "  - consider $\\theta_0$"
   ]
  },
  {
   "cell_type": "code",
   "execution_count": 3,
   "metadata": {},
   "outputs": [],
   "source": [
    "import sympy as sp\n",
    "sp.init_printing(use_latex='mathjax')\n",
    "\n",
    "from sympy import symbols, sin, cos, sqrt, asin, atan\n"
   ]
  },
  {
   "cell_type": "code",
   "execution_count": 4,
   "metadata": {},
   "outputs": [],
   "source": [
    "# Actuation (knee)\n",
    "theta = symbols('theta')\n",
    "\n",
    "# Passive joint (ankle) \n",
    "psi = symbols('psi')\n"
   ]
  },
  {
   "cell_type": "code",
   "execution_count": 5,
   "metadata": {},
   "outputs": [],
   "source": [
    "\n",
    "# Constants defined by geometry.\n",
    "theta0 = symbols('theta0')\n",
    "\n",
    "shank, p1, p2, p3 = symbols('shank p1 p2 p3')\n",
    "\n"
   ]
  },
  {
   "cell_type": "code",
   "execution_count": 6,
   "metadata": {},
   "outputs": [],
   "source": [
    "# Manually specified structure of equations. We first introduce variables based on the kinematic structure only.\n",
    "# These can easily be precomputed in code. Here, they are just mentioned as a reference.\n",
    "\n",
    "k1 = shank / p1\n",
    "k2 = shank / p3\n",
    "k3 = (shank**2 + p1**2 + p3**2 - p2**2 ) / (2 * p1 * p3)\n",
    "\n",
    "\n",
    "# directly use these variables\n",
    "k1, k2, k3 = symbols('k1 k2 k3')\n"
   ]
  },
  {
   "cell_type": "code",
   "execution_count": 10,
   "metadata": {},
   "outputs": [
    {
     "data": {
      "text/latex": [
       "$\\displaystyle \\left[ - i \\log{\\left(\\frac{k_{2} e^{2 i \\psi} + k_{2} - 2 k_{3} e^{i \\psi} - \\sqrt{- 4 k_{1}^{2} e^{2 i \\psi} + 4 k_{1} e^{3 i \\psi} + 4 k_{1} e^{i \\psi} + k_{2}^{2} e^{4 i \\psi} + 2 k_{2}^{2} e^{2 i \\psi} + k_{2}^{2} - 4 k_{2} k_{3} e^{3 i \\psi} - 4 k_{2} k_{3} e^{i \\psi} + 4 k_{3}^{2} e^{2 i \\psi} - 4 e^{2 i \\psi}}}{2 \\left(k_{1} e^{i \\psi} - 1\\right)} \\right)}, \\  - i \\log{\\left(\\frac{k_{2} e^{2 i \\psi} + k_{2} - 2 k_{3} e^{i \\psi} + \\sqrt{- 4 k_{1}^{2} e^{2 i \\psi} + 4 k_{1} e^{3 i \\psi} + 4 k_{1} e^{i \\psi} + k_{2}^{2} e^{4 i \\psi} + 2 k_{2}^{2} e^{2 i \\psi} + k_{2}^{2} - 4 k_{2} k_{3} e^{3 i \\psi} - 4 k_{2} k_{3} e^{i \\psi} + 4 k_{3}^{2} e^{2 i \\psi} - 4 e^{2 i \\psi}}}{2 \\left(k_{1} e^{i \\psi} - 1\\right)} \\right)}\\right]$"
      ],
      "text/plain": [
       "⎡      ⎛                                ______________________________________\n",
       "⎢      ⎜    2⋅ⅈ⋅ψ              ⅈ⋅ψ     ╱       2  2⋅ⅈ⋅ψ         3⋅ⅈ⋅ψ         \n",
       "⎢      ⎜k₂⋅ℯ      + k₂ - 2⋅k₃⋅ℯ    - ╲╱  - 4⋅k₁ ⋅ℯ      + 4⋅k₁⋅ℯ      + 4⋅k₁⋅ℯ\n",
       "⎢-ⅈ⋅log⎜──────────────────────────────────────────────────────────────────────\n",
       "⎢      ⎜                                                                      \n",
       "⎣      ⎝                                                                      \n",
       "\n",
       "______________________________________________________________________________\n",
       "ⅈ⋅ψ     2  4⋅ⅈ⋅ψ       2  2⋅ⅈ⋅ψ     2            3⋅ⅈ⋅ψ            ⅈ⋅ψ       2 \n",
       "    + k₂ ⋅ℯ      + 2⋅k₂ ⋅ℯ      + k₂  - 4⋅k₂⋅k₃⋅ℯ      - 4⋅k₂⋅k₃⋅ℯ    + 4⋅k₃ ⋅\n",
       "──────────────────────────────────────────────────────────────────────────────\n",
       "       ⎛    ⅈ⋅ψ    ⎞                                                          \n",
       "     2⋅⎝k₁⋅ℯ    - 1⎠                                                          \n",
       "\n",
       "__________________⎞        ⎛                                __________________\n",
       " 2⋅ⅈ⋅ψ      2⋅ⅈ⋅ψ ⎟        ⎜    2⋅ⅈ⋅ψ              ⅈ⋅ψ     ╱       2  2⋅ⅈ⋅ψ   \n",
       "ℯ      - 4⋅ℯ      ⎟        ⎜k₂⋅ℯ      + k₂ - 2⋅k₃⋅ℯ    + ╲╱  - 4⋅k₁ ⋅ℯ      + \n",
       "──────────────────⎟, -ⅈ⋅log⎜──────────────────────────────────────────────────\n",
       "                  ⎟        ⎜                                                  \n",
       "                  ⎠        ⎝                                                  \n",
       "\n",
       "______________________________________________________________________________\n",
       "      3⋅ⅈ⋅ψ         ⅈ⋅ψ     2  4⋅ⅈ⋅ψ       2  2⋅ⅈ⋅ψ     2            3⋅ⅈ⋅ψ    \n",
       "4⋅k₁⋅ℯ      + 4⋅k₁⋅ℯ    + k₂ ⋅ℯ      + 2⋅k₂ ⋅ℯ      + k₂  - 4⋅k₂⋅k₃⋅ℯ      - 4\n",
       "──────────────────────────────────────────────────────────────────────────────\n",
       "                           ⎛    ⅈ⋅ψ    ⎞                                      \n",
       "                         2⋅⎝k₁⋅ℯ    - 1⎠                                      \n",
       "\n",
       "______________________________________⎞⎤\n",
       "        ⅈ⋅ψ       2  2⋅ⅈ⋅ψ      2⋅ⅈ⋅ψ ⎟⎥\n",
       "⋅k₂⋅k₃⋅ℯ    + 4⋅k₃ ⋅ℯ      - 4⋅ℯ      ⎟⎥\n",
       "──────────────────────────────────────⎟⎥\n",
       "                                      ⎟⎥\n",
       "                                      ⎠⎦"
      ]
     },
     "execution_count": 10,
     "metadata": {},
     "output_type": "execute_result"
    }
   ],
   "source": [
    "from sympy import Eq, solve\n",
    "\n",
    "#  k1 * cos(theta) - k2 * cos(psi) + k3 = cos(psi - theta)\n",
    "#  k1 * cos(theta) - k2 * cos(0) + k3 = cos(0 - theta)\n",
    "#  k1 * cos(theta) - k2 + k3 = cos( - theta)\n",
    "#  k1 * cos(theta) - k2 + k3 = cos(theta)\n",
    "#   - k2 + k3 = (1-k1) cos(theta)\n",
    "#   (k3 - k2)/(1-k1) =  cos(theta)\n",
    "# theta = arccos( (k3 - k2) / (1-k1) )\n",
    "\n",
    "solve(eqn, theta)\n"
   ]
  },
  {
   "cell_type": "markdown",
   "metadata": {},
   "source": []
  },
  {
   "attachments": {},
   "cell_type": "markdown",
   "metadata": {},
   "source": [
    "## Relationship between ankle ($\\psi$) and knee ($\\theta$)"
   ]
  },
  {
   "cell_type": "code",
   "execution_count": 8,
   "metadata": {},
   "outputs": [
    {
     "ename": "NameError",
     "evalue": "name 'Function' is not defined",
     "output_type": "error",
     "traceback": [
      "\u001b[0;31m---------------------------------------------------------------------------\u001b[0m",
      "\u001b[0;31mNameError\u001b[0m                                 Traceback (most recent call last)",
      "\u001b[0;32m<ipython-input-8-b6bfc7ab0d40>\u001b[0m in \u001b[0;36m<module>\u001b[0;34m\u001b[0m\n\u001b[1;32m     10\u001b[0m \u001b[0mD\u001b[0m \u001b[0;34m=\u001b[0m \u001b[0msqrt\u001b[0m\u001b[0;34m(\u001b[0m\u001b[0mB\u001b[0m \u001b[0;34m*\u001b[0m \u001b[0mB\u001b[0m \u001b[0;34m-\u001b[0m \u001b[0;36m4\u001b[0m \u001b[0;34m*\u001b[0m \u001b[0mA\u001b[0m \u001b[0;34m*\u001b[0m \u001b[0mC\u001b[0m\u001b[0;34m)\u001b[0m\u001b[0;34m\u001b[0m\u001b[0;34m\u001b[0m\u001b[0m\n\u001b[1;32m     11\u001b[0m \u001b[0;34m\u001b[0m\u001b[0m\n\u001b[0;32m---> 12\u001b[0;31m \u001b[0mD_fn\u001b[0m \u001b[0;34m=\u001b[0m \u001b[0mFunction\u001b[0m\u001b[0;34m(\u001b[0m\u001b[0;34m\"D\"\u001b[0m\u001b[0;34m)\u001b[0m\u001b[0;34m(\u001b[0m\u001b[0mtheta\u001b[0m\u001b[0;34m)\u001b[0m\u001b[0;34m\u001b[0m\u001b[0;34m\u001b[0m\u001b[0m\n\u001b[0m\u001b[1;32m     13\u001b[0m \u001b[0;34m\u001b[0m\u001b[0m\n\u001b[1;32m     14\u001b[0m \u001b[0;31m# ankle\u001b[0m\u001b[0;34m\u001b[0m\u001b[0;34m\u001b[0m\u001b[0;34m\u001b[0m\u001b[0m\n",
      "\u001b[0;31mNameError\u001b[0m: name 'Function' is not defined"
     ]
    }
   ],
   "source": [
    "\n",
    "# some helpers\n",
    "cT = cos(theta)\n",
    "sT = sin(theta)\n",
    "\n",
    "\n",
    "A = k1 * cT + k2 + k3 + cT # C.34\n",
    "B = -2*sT # C.35\n",
    "C = k1 * cT - k2 + k3 - cT # C.36\n",
    "\n",
    "D = sqrt(B * B - 4 * A * C)\n",
    "\n",
    "D_fn = Function(\"D\")(theta)\n",
    "\n",
    "# ankle\n",
    "psi = 2 * atan((-B + D_fn) / (2 * A)) #  C.39\n",
    "\n",
    "psi = sp.simplify(psi)\n",
    "\n",
    "psi_of_theta = psi\n",
    "\n"
   ]
  },
  {
   "cell_type": "code",
   "execution_count": null,
   "metadata": {},
   "outputs": [
    {
     "data": {
      "text/latex": [
       "$\\displaystyle 2 \\operatorname{atan}{\\left(\\frac{\\frac{D{\\left(\\theta \\right)}}{2} + \\sin{\\left(\\theta \\right)}}{k_{1} \\cos{\\left(\\theta \\right)} + k_{2} + k_{3} + \\cos{\\left(\\theta \\right)}} \\right)}$"
      ],
      "text/plain": [
       "      ⎛       D(θ)                 ⎞\n",
       "      ⎜       ──── + sin(θ)        ⎟\n",
       "      ⎜        2                   ⎟\n",
       "2⋅atan⎜────────────────────────────⎟\n",
       "      ⎝k₁⋅cos(θ) + k₂ + k₃ + cos(θ)⎠"
      ]
     },
     "execution_count": 227,
     "metadata": {},
     "output_type": "execute_result"
    }
   ],
   "source": [
    "psi"
   ]
  },
  {
   "attachments": {},
   "cell_type": "markdown",
   "metadata": {},
   "source": [
    "### Derivatives"
   ]
  },
  {
   "cell_type": "code",
   "execution_count": null,
   "metadata": {},
   "outputs": [
    {
     "data": {
      "text/latex": [
       "$\\displaystyle \\frac{2 \\left(k_{1}^{2} \\cos{\\left(\\theta \\right)} + k_{1} k_{3} - k_{2}\\right) \\sin{\\left(\\theta \\right)}}{\\sqrt{- k_{1}^{2} \\cos^{2}{\\left(\\theta \\right)} - 2 k_{1} k_{3} \\cos{\\left(\\theta \\right)} + k_{2}^{2} + 2 k_{2} \\cos{\\left(\\theta \\right)} - k_{3}^{2} + 1}}$"
      ],
      "text/plain": [
       "                  ⎛  2                    ⎞                      \n",
       "                2⋅⎝k₁ ⋅cos(θ) + k₁⋅k₃ - k₂⎠⋅sin(θ)               \n",
       "─────────────────────────────────────────────────────────────────\n",
       "   ______________________________________________________________\n",
       "  ╱     2    2                         2                   2     \n",
       "╲╱  - k₁ ⋅cos (θ) - 2⋅k₁⋅k₃⋅cos(θ) + k₂  + 2⋅k₂⋅cos(θ) - k₃  + 1 "
      ]
     },
     "execution_count": 228,
     "metadata": {},
     "output_type": "execute_result"
    }
   ],
   "source": [
    "from sympy import diff\n",
    "\n",
    "dD_dtheta = diff(D, theta).simplify()\n",
    "\n",
    "dD_dtheta\n",
    "\n",
    "\n"
   ]
  },
  {
   "cell_type": "code",
   "execution_count": null,
   "metadata": {},
   "outputs": [
    {
     "data": {
      "text/latex": [
       "$\\displaystyle \\frac{4 \\left(\\left(k_{1} + 1\\right) \\left(D{\\left(\\theta \\right)} + 2 \\sin{\\left(\\theta \\right)}\\right) \\sin{\\left(\\theta \\right)} + \\left(2 \\cos{\\left(\\theta \\right)} + \\frac{d}{d \\theta} D{\\left(\\theta \\right)}\\right) \\left(k_{1} \\cos{\\left(\\theta \\right)} + k_{2} + k_{3} + \\cos{\\left(\\theta \\right)}\\right)\\right)}{\\left(D{\\left(\\theta \\right)} + 2 \\sin{\\left(\\theta \\right)}\\right)^{2} + 4 \\left(k_{1} \\cos{\\left(\\theta \\right)} + k_{2} + k_{3} + \\cos{\\left(\\theta \\right)}\\right)^{2}}$"
      ],
      "text/plain": [
       "  ⎛                                    ⎛           d       ⎞                  \n",
       "4⋅⎜(k₁ + 1)⋅(D(θ) + 2⋅sin(θ))⋅sin(θ) + ⎜2⋅cos(θ) + ──(D(θ))⎟⋅(k₁⋅cos(θ) + k₂ +\n",
       "  ⎝                                    ⎝           dθ      ⎠                  \n",
       "──────────────────────────────────────────────────────────────────────────────\n",
       "                                    2                                   2     \n",
       "                   (D(θ) + 2⋅sin(θ))  + 4⋅(k₁⋅cos(θ) + k₂ + k₃ + cos(θ))      \n",
       "\n",
       "             ⎞\n",
       " k₃ + cos(θ))⎟\n",
       "             ⎠\n",
       "──────────────\n",
       "              \n",
       "              "
      ]
     },
     "execution_count": 229,
     "metadata": {},
     "output_type": "execute_result"
    }
   ],
   "source": [
    "from sympy import diff\n",
    "\n",
    "\n",
    "dpsi_dtheta = diff(psi, theta)\n",
    "\n",
    "D_fn = Function('D')(theta)\n",
    "\n",
    "dpsi_dtheta = dpsi_dtheta.replace(D, D_fn)\n",
    "dpsi_dtheta = dpsi_dtheta.simplify()\n",
    "\n",
    "dpsi_dtheta"
   ]
  },
  {
   "cell_type": "code",
   "execution_count": null,
   "metadata": {},
   "outputs": [],
   "source": [
    "# We can implement the term dpsi_dtheta now in code. Therefore, we assume from now on that it is given.\n",
    "\n",
    "from sympy import Function\n",
    "psi = Function('psi')(theta)"
   ]
  },
  {
   "attachments": {},
   "cell_type": "markdown",
   "metadata": {},
   "source": [
    "## Coordinate systems"
   ]
  },
  {
   "cell_type": "code",
   "execution_count": null,
   "metadata": {},
   "outputs": [
    {
     "data": {
      "text/latex": [
       "$\\displaystyle \\operatorname{CoordSys3D}\\left(knee_base, \\left( \\left[\\begin{matrix}1 & 0 & 0\\\\0 & 1 & 0\\\\0 & 0 & 1\\end{matrix}\\right], \\  (shank)\\mathbf{\\hat{i}_{ankle}}\\right), \\operatorname{CoordSys3D}\\left(ankle, \\left( \\left[\\begin{matrix}\\cos{\\left(\\psi{\\left(\\theta \\right)} \\right)} & - \\sin{\\left(\\psi{\\left(\\theta \\right)} \\right)} & 0\\\\\\sin{\\left(\\psi{\\left(\\theta \\right)} \\right)} & \\cos{\\left(\\psi{\\left(\\theta \\right)} \\right)} & 0\\\\0 & 0 & 1\\end{matrix}\\right], \\  \\mathbf{\\hat{0}}\\right), \\operatorname{CoordSys3D}\\left(base, \\left( \\left[\\begin{matrix}1 & 0 & 0\\\\0 & 1 & 0\\\\0 & 0 & 1\\end{matrix}\\right], \\  \\mathbf{\\hat{0}}\\right)\\right)\\right)\\right)$"
      ],
      "text/plain": [
       "knee_base"
      ]
     },
     "execution_count": 231,
     "metadata": {},
     "output_type": "execute_result"
    }
   ],
   "source": [
    "\n",
    "from sympy.vector import CoordSys3D, AxisOrienter\n",
    "from sympy import Matrix\n",
    "\n",
    "# The reference system at the origin of the ankle. It is defined as follows:\n",
    "# -z is the rotation axis of the joint\n",
    "# x points upwards (away from the platform, aligned with the global z axis)\n",
    "B = CoordSys3D('base')\n",
    "\n",
    "orienter_psi = AxisOrienter(psi, -B.k )\n",
    "\n",
    "# coordinate system of the ankle joint (after applying the joint rotation)\n",
    "T_ankle = B.orient_new('ankle', (orienter_psi, ))\n",
    "\n",
    "# helper coordinate system at the origin of the knee after applying the knee rotation\n",
    "T_knee_base = T_ankle.locate_new('knee_base', shank * T_ankle.i )\n",
    "\n",
    "T_knee_base\n",
    "\n"
   ]
  },
  {
   "cell_type": "code",
   "execution_count": null,
   "metadata": {},
   "outputs": [
    {
     "data": {
      "text/latex": [
       "$\\displaystyle \\operatorname{CoordSys3D}\\left(knee, \\left( \\left[\\begin{matrix}\\cos{\\left(\\theta \\right)} & \\sin{\\left(\\theta \\right)} & 0\\\\- \\sin{\\left(\\theta \\right)} & \\cos{\\left(\\theta \\right)} & 0\\\\0 & 0 & 1\\end{matrix}\\right], \\  \\mathbf{\\hat{0}}\\right), \\operatorname{CoordSys3D}\\left(knee_base, \\left( \\left[\\begin{matrix}1 & 0 & 0\\\\0 & 1 & 0\\\\0 & 0 & 1\\end{matrix}\\right], \\  (shank)\\mathbf{\\hat{i}_{ankle}}\\right), \\operatorname{CoordSys3D}\\left(ankle, \\left( \\left[\\begin{matrix}\\cos{\\left(\\psi{\\left(\\theta \\right)} \\right)} & - \\sin{\\left(\\psi{\\left(\\theta \\right)} \\right)} & 0\\\\\\sin{\\left(\\psi{\\left(\\theta \\right)} \\right)} & \\cos{\\left(\\psi{\\left(\\theta \\right)} \\right)} & 0\\\\0 & 0 & 1\\end{matrix}\\right], \\  \\mathbf{\\hat{0}}\\right), \\operatorname{CoordSys3D}\\left(base, \\left( \\left[\\begin{matrix}1 & 0 & 0\\\\0 & 1 & 0\\\\0 & 0 & 1\\end{matrix}\\right], \\  \\mathbf{\\hat{0}}\\right)\\right)\\right)\\right)\\right)$"
      ],
      "text/plain": [
       "knee"
      ]
     },
     "execution_count": 232,
     "metadata": {},
     "output_type": "execute_result"
    }
   ],
   "source": [
    "\n",
    "orienter_theta = AxisOrienter(theta, B.k )\n",
    "\n",
    "# coordinate system of the knee after applying the rotation\n",
    "T_knee = T_knee_base.orient_new('knee', (orienter_theta, ))\n",
    "\n",
    "T_knee"
   ]
  },
  {
   "cell_type": "code",
   "execution_count": null,
   "metadata": {},
   "outputs": [],
   "source": []
  },
  {
   "cell_type": "code",
   "execution_count": null,
   "metadata": {},
   "outputs": [],
   "source": [
    "# express the end effector in the knee joint coordinate system (T_knee). This captures the forward kinematics of child joints.\n",
    "x, y, z, alpha, beta, gamma = symbols(\"x y z alpha beta gamma\")\n",
    "\n",
    "from sympy.vector import BodyOrienter, Point\n",
    "euler = BodyOrienter(alpha, beta, gamma, rot_order=\"XYZ\")\n",
    "\n",
    "P_eef = T_knee.orient_new(\"EEF\", euler, location=(T_knee.i * x + T_knee.j * y + T_knee.k * z))\n",
    "\n"
   ]
  },
  {
   "cell_type": "code",
   "execution_count": null,
   "metadata": {},
   "outputs": [
    {
     "data": {
      "text/latex": [
       "$\\displaystyle \\left[\\begin{matrix}shank \\cos{\\left(\\psi{\\left(\\theta \\right)} \\right)} + x \\left(\\sin{\\left(\\theta \\right)} \\sin{\\left(\\psi{\\left(\\theta \\right)} \\right)} + \\cos{\\left(\\theta \\right)} \\cos{\\left(\\psi{\\left(\\theta \\right)} \\right)}\\right) + y \\left(- \\sin{\\left(\\theta \\right)} \\cos{\\left(\\psi{\\left(\\theta \\right)} \\right)} + \\sin{\\left(\\psi{\\left(\\theta \\right)} \\right)} \\cos{\\left(\\theta \\right)}\\right)\\\\- shank \\sin{\\left(\\psi{\\left(\\theta \\right)} \\right)} + x \\left(\\sin{\\left(\\theta \\right)} \\cos{\\left(\\psi{\\left(\\theta \\right)} \\right)} - \\sin{\\left(\\psi{\\left(\\theta \\right)} \\right)} \\cos{\\left(\\theta \\right)}\\right) + y \\left(\\sin{\\left(\\theta \\right)} \\sin{\\left(\\psi{\\left(\\theta \\right)} \\right)} + \\cos{\\left(\\theta \\right)} \\cos{\\left(\\psi{\\left(\\theta \\right)} \\right)}\\right)\\\\z\\end{matrix}\\right]$"
      ],
      "text/plain": [
       "⎡shank⋅cos(ψ(θ)) + x⋅(sin(θ)⋅sin(ψ(θ)) + cos(θ)⋅cos(ψ(θ))) + y⋅(-sin(θ)⋅cos(ψ(\n",
       "⎢                                                                             \n",
       "⎢-shank⋅sin(ψ(θ)) + x⋅(sin(θ)⋅cos(ψ(θ)) - sin(ψ(θ))⋅cos(θ)) + y⋅(sin(θ)⋅sin(ψ(\n",
       "⎢                                                                             \n",
       "⎣                                                 z                           \n",
       "\n",
       "θ)) + sin(ψ(θ))⋅cos(θ))⎤\n",
       "                       ⎥\n",
       "θ)) + cos(θ)⋅cos(ψ(θ)))⎥\n",
       "                       ⎥\n",
       "                       ⎦"
      ]
     },
     "execution_count": 267,
     "metadata": {},
     "output_type": "execute_result"
    }
   ],
   "source": [
    "pos_vect = P_eef.origin.position_wrt(B)\n",
    "\n",
    "# express the EEF in the base coordinate system (ankle base)\n",
    "p_eef = pos_vect.to_matrix(B)\n",
    "\n",
    "p_eef\n",
    "\n",
    "# o = P_eef.rotation_matrix(B)"
   ]
  },
  {
   "attachments": {},
   "cell_type": "markdown",
   "metadata": {},
   "source": [
    "# Jacobian\n",
    "\n",
    "Pose of the end-effector\n",
    "$$\n",
    "p_{eef} = (x,y,z,\\alpha, \\beta, \\gamma )^T\n",
    "$$\n",
    "\n",
    "The Jacobian $J \\in \\mathrm{R}^{6x1}$\n",
    "$$\n",
    "J = \\frac{\\partial p_{eef}}{\\partial \\theta}\n",
    "$$\n"
   ]
  },
  {
   "cell_type": "code",
   "execution_count": null,
   "metadata": {},
   "outputs": [
    {
     "data": {
      "text/latex": [
       "$\\displaystyle \\left[\\begin{matrix}- shank \\sin{\\left(\\psi{\\left(\\theta \\right)} \\right)} \\frac{d}{d \\theta} \\psi{\\left(\\theta \\right)} + x \\left(\\frac{d}{d \\theta} \\psi{\\left(\\theta \\right)} - 1\\right) \\sin{\\left(\\theta - \\psi{\\left(\\theta \\right)} \\right)} + y \\left(\\frac{d}{d \\theta} \\psi{\\left(\\theta \\right)} - 1\\right) \\cos{\\left(\\theta - \\psi{\\left(\\theta \\right)} \\right)}\\\\- shank \\cos{\\left(\\psi{\\left(\\theta \\right)} \\right)} \\frac{d}{d \\theta} \\psi{\\left(\\theta \\right)} - x \\left(\\frac{d}{d \\theta} \\psi{\\left(\\theta \\right)} - 1\\right) \\cos{\\left(\\theta - \\psi{\\left(\\theta \\right)} \\right)} + y \\left(\\frac{d}{d \\theta} \\psi{\\left(\\theta \\right)} - 1\\right) \\sin{\\left(\\theta - \\psi{\\left(\\theta \\right)} \\right)}\\\\0\\end{matrix}\\right]$"
      ],
      "text/plain": [
       "⎡                  d            ⎛d           ⎞                   ⎛d           \n",
       "⎢- shank⋅sin(ψ(θ))⋅──(ψ(θ)) + x⋅⎜──(ψ(θ)) - 1⎟⋅sin(θ - ψ(θ)) + y⋅⎜──(ψ(θ)) - 1\n",
       "⎢                  dθ           ⎝dθ          ⎠                   ⎝dθ          \n",
       "⎢                                                                             \n",
       "⎢                  d            ⎛d           ⎞                   ⎛d           \n",
       "⎢- shank⋅cos(ψ(θ))⋅──(ψ(θ)) - x⋅⎜──(ψ(θ)) - 1⎟⋅cos(θ - ψ(θ)) + y⋅⎜──(ψ(θ)) - 1\n",
       "⎢                  dθ           ⎝dθ          ⎠                   ⎝dθ          \n",
       "⎢                                                                             \n",
       "⎣                                             0                               \n",
       "\n",
       "⎞              ⎤\n",
       "⎟⋅cos(θ - ψ(θ))⎥\n",
       "⎠              ⎥\n",
       "               ⎥\n",
       "⎞              ⎥\n",
       "⎟⋅sin(θ - ψ(θ))⎥\n",
       "⎠              ⎥\n",
       "               ⎥\n",
       "               ⎦"
      ]
     },
     "execution_count": 240,
     "metadata": {},
     "output_type": "execute_result"
    }
   ],
   "source": [
    "from sympy import diff\n",
    "\n",
    "# position part of the Jacobian\n",
    "dp_dtheta = diff(p_eef, theta)\n",
    "dp_dtheta = dp_dtheta.simplify()\n",
    "\n",
    "dp_dtheta\n"
   ]
  },
  {
   "cell_type": "code",
   "execution_count": null,
   "metadata": {},
   "outputs": [
    {
     "data": {
      "text/latex": [
       "$\\displaystyle (\\left[\\begin{matrix}- shank \\cos{\\left(\\psi{\\left(\\theta \\right)} \\right)} & shank \\sin{\\left(\\psi{\\left(\\theta \\right)} \\right)} & 0\\\\- shank \\sin{\\left(\\psi{\\left(\\theta \\right)} \\right)} & - shank \\cos{\\left(\\psi{\\left(\\theta \\right)} \\right)} & 0\\\\0 & 0 & - shank\\end{matrix}\\right])\\mathbf{\\hat{j}_{ankle}}$"
      ],
      "text/plain": [
       "⎛⎡-shank⋅cos(ψ(θ))  shank⋅sin(ψ(θ))     0   ⎤⎞        \n",
       "⎜⎢                                          ⎥⎟ j_ankle\n",
       "⎜⎢-shank⋅sin(ψ(θ))  -shank⋅cos(ψ(θ))    0   ⎥⎟        \n",
       "⎜⎢                                          ⎥⎟        \n",
       "⎝⎣       0                 0          -shank⎦⎠        "
      ]
     },
     "execution_count": 266,
     "metadata": {},
     "output_type": "execute_result"
    }
   ],
   "source": [
    "# As can be seen, the expression can be rewritten \n",
    "\n",
    "\n",
    "# from sympy.vector import CoordSys3D\n",
    "# N = CoordSys3D('N')\n",
    "# v1 = 2*N.i+3*N.j-N.k\n",
    "# v2 = N.i-4*N.j+N.k\n",
    "# v1.dot(v2)\n",
    "# v1.cross(v2)\n",
    "\n",
    "v = T_ankle.i * shank\n",
    "\n",
    "d = T_ankle.rotation_matrix(B) * v\n",
    "\n",
    "\n",
    "#T_knee.i    \n",
    "a = d.cross(T_ankle.k)\n",
    "\n",
    "a\n",
    "#print(a)"
   ]
  },
  {
   "attachments": {},
   "cell_type": "markdown",
   "metadata": {},
   "source": [
    "the expression $\\frac{\\partial \\mathbf{p}}{\\partial \\theta}$ above yields $\\frac{\\partial x}{\\partial\\theta}$ and $\\frac{\\partial y}{\\partial\\theta}$. $\\frac{\\partial z}{\\partial\\theta}$ is $0$.\n",
    "\n",
    "\n",
    "To obtain the orientation part, we only need to consider the angle $\\gamma$ as the joint mechanism is 2D (rotatation around z axis). In other words  $\\frac{\\partial \\alpha}{\\partial\\theta} = \\frac{\\partial \\beta}{\\partial\\theta} = 0$\n",
    "\n",
    "\n",
    "\n",
    "It is\n",
    "\n",
    "$$ \n",
    "\\gamma = \\gamma_{0} -\\psi + \\theta\n",
    "$$\n",
    "\n",
    "Partial derivative:\n",
    "\n",
    "$$\n",
    "\\frac{\\partial \\gamma}{\\partial\\theta} = 1 - \\frac{\\partial \\psi}{\\partial\\theta} \n",
    "$$\n",
    "\n",
    "\n"
   ]
  },
  {
   "attachments": {},
   "cell_type": "markdown",
   "metadata": {},
   "source": [
    "# Automatic code generation\n",
    "\n",
    "It is advantageous to implement the equations above by hand. Sine and cosine terms can be computed once for improved efficiency.\n",
    "\n",
    "*The following is just for reference*"
   ]
  },
  {
   "cell_type": "code",
   "execution_count": null,
   "metadata": {},
   "outputs": [],
   "source": [
    "from sympy import ccode #, cpp_generator\n",
    "\n",
    "def generate_code():\n",
    "\n",
    "  cpp_code = ccode(dp_dtheta[0], assign_to=\"dx_dtheta\", standard=\"c11\")\n",
    "\n",
    "  with open(\"/tmp/expressions.cpp\", \"w\") as f:\n",
    "    f.write(cpp_code)"
   ]
  }
 ],
 "metadata": {
  "kernelspec": {
   "display_name": "simox_control",
   "language": "python",
   "name": "python3"
  },
  "language_info": {
   "codemirror_mode": {
    "name": "ipython",
    "version": 3
   },
   "file_extension": ".py",
   "mimetype": "text/x-python",
   "name": "python",
   "nbconvert_exporter": "python",
   "pygments_lexer": "ipython3",
   "version": "3.7.13"
  },
  "orig_nbformat": 4,
  "vscode": {
   "interpreter": {
    "hash": "e4599465d50e71b5ac4fe67b3a4b0cd1869600672e1938bc9720f881263763f9"
   }
  }
 },
 "nbformat": 4,
 "nbformat_minor": 2
}
